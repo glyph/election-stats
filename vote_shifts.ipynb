{
 "cells": [
  {
   "attachments": {},
   "cell_type": "markdown",
   "id": "c2ea0f5d-f015-4621-86b0-d53e96262200",
   "metadata": {},
   "source": [
    "## DATA ACQUISITION"
   ]
  },
  {
   "cell_type": "code",
   "execution_count": 1,
   "id": "27ead020-a740-42a8-9754-88b90e0dac93",
   "metadata": {},
   "outputs": [],
   "source": [
    "# Import required libraries\n",
    "import numpy as np\n",
    "import pandas as pd\n",
    "import requests\n",
    "\n",
    "# Import 2020 data\n",
    "url_2020 = \"https://raw.githubusercontent.com/glyph/election-stats/refs/heads/main/vote_share_2020.csv\"\n",
    "results_2020 = pd.read_csv(url_2020)\n",
    "state_list = results_2020.state\n",
    "swing_states = [\"MI\", \"WI\", \"PA\", \"GA\", \"AZ\", \"NV\", \"NC\"]\n",
    "\n",
    "# Import 2024 data\n",
    "harris_count = []\n",
    "trump_count = []\n",
    "pct_counted = []\n",
    "\n",
    "for abbrev in state_list:\n",
    "    url = \"https://politics.api.cnn.io/results/race/2024-PG-\" + abbrev + \".json\"\n",
    "    json = requests.get(url).json()\n",
    "    cand1_count = json.get(\"candidates\")[0].get(\"voteNum\")\n",
    "    cand2_count = json.get(\"candidates\")[1].get(\"voteNum\")\n",
    "    pct_counted.append(json.get(\"percentReporting\"))\n",
    "    if json.get(\"candidates\")[0].get(\"candidatePartyCode\") == \"D\":\n",
    "        harris_count.append(cand1_count)\n",
    "        trump_count.append(cand2_count)\n",
    "    else:\n",
    "        trump_count.append(cand1_count)\n",
    "        harris_count.append(cand2_count)\n",
    "\n",
    "results_2024 = pd.DataFrame(\n",
    "    {\n",
    "        \"state\": state_list,\n",
    "        \"harris\": harris_count,\n",
    "        \"trump\": trump_count,\n",
    "        \"pct_counted\": pct_counted,\n",
    "    }\n",
    ")"
   ]
  },
  {
   "attachments": {},
   "cell_type": "markdown",
   "id": "bf1c29bd-8cfe-4889-b17f-237a8d6a39e6",
   "metadata": {},
   "source": [
    "## DATA WRANGLING"
   ]
  },
  {
   "cell_type": "code",
   "execution_count": 2,
   "id": "6f98eac3-2fa0-4e9e-ab05-c7b9d5caa8f4",
   "metadata": {},
   "outputs": [],
   "source": [
    "# Project the final 2024 results from existing tallies\n",
    "results_2024[\"harris_proj\"] = round(\n",
    "    results_2024.harris / results_2024.pct_counted * 100\n",
    ")\n",
    "results_2024[\"trump_proj\"] = round(results_2024.trump / results_2024.pct_counted * 100)\n",
    "\n",
    "\n",
    "# Add state status column to 2024 data\n",
    "def check_status(us_state):\n",
    "    if us_state in swing_states:\n",
    "        return \"swing\"\n",
    "    else:\n",
    "        return \"safe\"\n",
    "\n",
    "\n",
    "results_2024[\"status\"] = results_2024[\"state\"].apply(check_status)\n",
    "\n",
    "# Combine data for 2020 and 2024\n",
    "results_both = pd.merge(results_2024, results_2020, on=\"state\")\n",
    "\n",
    "# Get totals by candidate and state status\n",
    "safe_results = results_both[results_both[\"status\"] == \"safe\"]\n",
    "swing_results = results_both[results_both[\"status\"] == \"swing\"]\n",
    "biden_total_safe = np.sum(safe_results[\"d_2020_total\"])\n",
    "biden_total_swing = np.sum(swing_results[\"d_2020_total\"])\n",
    "trump_20_total_safe = np.sum(safe_results[\"r_2020_total\"])\n",
    "trump_20_total_swing = np.sum(swing_results[\"r_2020_total\"])\n",
    "harris_total_safe = np.sum(safe_results[\"harris\"])\n",
    "harris_total_swing = np.sum(swing_results[\"harris\"])\n",
    "trump_24_total_safe = np.sum(safe_results[\"trump\"])\n",
    "trump_24_total_swing = np.sum(swing_results[\"trump\"])\n",
    "harris_proj_total_safe = np.sum(safe_results[\"harris_proj\"])\n",
    "harris_proj_total_swing = np.sum(swing_results[\"harris_proj\"])\n",
    "trump_24_proj_total_safe = np.sum(safe_results[\"trump_proj\"])\n",
    "trump_24_proj_total_swing = np.sum(swing_results[\"trump_proj\"])"
   ]
  },
  {
   "attachments": {},
   "cell_type": "markdown",
   "id": "07c51f03-1708-4c60-8395-be92865ee39f",
   "metadata": {},
   "source": [
    "## VOTE CHANGE BY STATUS"
   ]
  },
  {
   "attachments": {},
   "cell_type": "markdown",
   "id": "2f1dabf2-f8bc-4654-9d93-a389ba1abf09",
   "metadata": {},
   "source": [
    "### CURRENT"
   ]
  },
  {
   "cell_type": "code",
   "execution_count": 3,
   "id": "7ab2884f-a195-4a02-a818-a9398d77b28b",
   "metadata": {},
   "outputs": [
    {
     "name": "stdout",
     "output_type": "stream",
     "text": [
      "  status  harris  trump\n",
      "0   safe   -9.88   3.36\n",
      "1  swing   -0.31   6.26\n"
     ]
    }
   ],
   "source": [
    "# Calculate percent change by candidate and state status\n",
    "possible_status = [\"safe\", \"swing\"]\n",
    "harris_shifts = [\n",
    "    round((harris_total_safe / biden_total_safe * 100), 2) - 100,\n",
    "    round((harris_total_swing / biden_total_swing * 100), 2) - 100,\n",
    "]\n",
    "trump_shifts = [\n",
    "    round((trump_24_total_safe / trump_20_total_safe * 100), 2) - 100,\n",
    "    round((trump_24_total_swing / trump_20_total_swing * 100), 2) - 100,\n",
    "]\n",
    "\n",
    "shift_pcts = pd.DataFrame(\n",
    "    {\"status\": possible_status, \"harris\": harris_shifts, \"trump\": trump_shifts}\n",
    ")\n",
    "\n",
    "print(shift_pcts)"
   ]
  },
  {
   "attachments": {},
   "cell_type": "markdown",
   "id": "6a3fafec-94cb-43e1-8545-50db84dd3974",
   "metadata": {},
   "source": [
    "### PROJECTED"
   ]
  },
  {
   "cell_type": "code",
   "execution_count": 4,
   "id": "c962559e-f26d-4ee6-b829-8341d877e6c9",
   "metadata": {},
   "outputs": [
    {
     "name": "stdout",
     "output_type": "stream",
     "text": [
      "  status  harris  trump\n",
      "0   safe   -8.65   4.70\n",
      "1  swing    0.70   7.33\n"
     ]
    }
   ],
   "source": [
    "# Calculate percent change by candidate and state status\n",
    "possible_status_2 = [\"safe\", \"swing\"]\n",
    "harris_shifts_2 = [\n",
    "    round((harris_proj_total_safe / biden_total_safe * 100), 2) - 100,\n",
    "    round((harris_proj_total_swing / biden_total_swing * 100), 2) - 100,\n",
    "]\n",
    "trump_shifts_2 = [\n",
    "    round((trump_24_proj_total_safe / trump_20_total_safe * 100), 2) - 100,\n",
    "    round((trump_24_proj_total_swing / trump_20_total_swing * 100), 2) - 100,\n",
    "]\n",
    "\n",
    "shift_pcts_proj = pd.DataFrame(\n",
    "    {\"status\": possible_status_2, \"harris\": harris_shifts_2, \"trump\": trump_shifts_2}\n",
    ")\n",
    "\n",
    "print(shift_pcts_proj)"
   ]
  },
  {
   "attachments": {},
   "cell_type": "markdown",
   "id": "099f9d68-c57f-4572-a61c-121eaba333b9",
   "metadata": {},
   "source": [
    "## VOTE CHANGE BY STATE"
   ]
  },
  {
   "attachments": {},
   "cell_type": "markdown",
   "id": "e73f0698-1e0a-4b6f-b3de-bed2047a0e54",
   "metadata": {},
   "source": [
    "### CURRENT"
   ]
  },
  {
   "cell_type": "code",
   "execution_count": 5,
   "id": "7112017f-9aeb-4ba4-9936-e88773f67f00",
   "metadata": {},
   "outputs": [
    {
     "name": "stdout",
     "output_type": "stream",
     "text": [
      "  status  harris  trump\n",
      "0   safe   -9.88   3.36\n",
      "1     MI   -2.41   6.29\n",
      "2     WI    2.29   5.43\n",
      "3     PA   -1.01   4.91\n",
      "4     GA    3.01   8.18\n",
      "5     AZ   -5.34   6.53\n",
      "6     NV    0.24  12.14\n",
      "7     NC    1.16   5.06\n"
     ]
    }
   ],
   "source": [
    "# Calculate percent change by candidate in each swing state\n",
    "possible_status_3 = [\"safe\"]\n",
    "harris_shifts_3 = [round((harris_total_safe / biden_total_safe * 100), 2) - 100]\n",
    "trump_shifts_3 = [round((trump_24_total_safe / trump_20_total_safe * 100), 2) - 100]\n",
    "for abbrev in swing_states:\n",
    "    state_pop_vote = results_both[results_both[\"state\"] == abbrev]\n",
    "    possible_status_3.append(abbrev)\n",
    "    harris_shifts_3.append(\n",
    "        round(\n",
    "            np.sum(state_pop_vote[\"harris\"])\n",
    "            / np.sum(state_pop_vote[\"d_2020_total\"])\n",
    "            * 100,\n",
    "            2,\n",
    "        )\n",
    "        - 100\n",
    "    )\n",
    "    trump_shifts_3.append(\n",
    "        round(\n",
    "            np.sum(state_pop_vote[\"trump\"])\n",
    "            / np.sum(state_pop_vote[\"r_2020_total\"])\n",
    "            * 100,\n",
    "            2,\n",
    "        )\n",
    "        - 100\n",
    "    )\n",
    "\n",
    "shift_pcts_state = pd.DataFrame(\n",
    "    {\"status\": possible_status_3, \"harris\": harris_shifts_3, \"trump\": trump_shifts_3}\n",
    ")\n",
    "\n",
    "print(shift_pcts_state)"
   ]
  },
  {
   "attachments": {},
   "cell_type": "markdown",
   "id": "0cfad563-c81a-4ff9-bf32-2159bd2973d5",
   "metadata": {},
   "source": [
    "### PROJECTED"
   ]
  },
  {
   "cell_type": "code",
   "execution_count": 6,
   "id": "2fc7521b-a48f-4514-bf62-9b05befe8d43",
   "metadata": {},
   "outputs": [
    {
     "name": "stdout",
     "output_type": "stream",
     "text": [
      "  status  harris  trump\n",
      "0   safe   -8.65   4.70\n",
      "1     MI   -1.42   7.37\n",
      "2     WI    3.32   6.50\n",
      "3     PA   -0.01   5.97\n",
      "4     GA    4.05   9.27\n",
      "5     AZ   -4.38   7.61\n",
      "6     NV    1.26  13.27\n",
      "7     NC    2.18   6.12\n"
     ]
    }
   ],
   "source": [
    "# Calculate percent change by candidate in each swing state\n",
    "possible_status_4 = [\"safe\"]\n",
    "harris_shifts_4 = [round((harris_proj_total_safe / biden_total_safe * 100), 2) - 100]\n",
    "trump_shifts_4 = [\n",
    "    round((trump_24_proj_total_safe / trump_20_total_safe * 100), 2) - 100\n",
    "]\n",
    "for abbrev in swing_states:\n",
    "    state_pop_vote = results_both[results_both[\"state\"] == abbrev]\n",
    "    possible_status_4.append(abbrev)\n",
    "    harris_shifts_4.append(\n",
    "        round(\n",
    "            np.sum(state_pop_vote[\"harris_proj\"])\n",
    "            / np.sum(state_pop_vote[\"d_2020_total\"])\n",
    "            * 100,\n",
    "            2,\n",
    "        )\n",
    "        - 100\n",
    "    )\n",
    "    trump_shifts_4.append(\n",
    "        round(\n",
    "            np.sum(state_pop_vote[\"trump_proj\"])\n",
    "            / np.sum(state_pop_vote[\"r_2020_total\"])\n",
    "            * 100,\n",
    "            2,\n",
    "        )\n",
    "        - 100\n",
    "    )\n",
    "\n",
    "shift_pcts_state_proj = pd.DataFrame(\n",
    "    {\"status\": possible_status_4, \"harris\": harris_shifts_4, \"trump\": trump_shifts_4}\n",
    ")\n",
    "\n",
    "print(shift_pcts_state_proj)"
   ]
  },
  {
   "attachments": {},
   "cell_type": "markdown",
   "id": "b2a514b9-c4f8-4644-9813-89e4d879924e",
   "metadata": {},
   "source": [
    "## VOTE SHARE"
   ]
  },
  {
   "cell_type": "code",
   "execution_count": 7,
   "id": "8c545a72-f179-44e4-9c58-df1e6f7baf20",
   "metadata": {},
   "outputs": [
    {
     "name": "stdout",
     "output_type": "stream",
     "text": [
      "         Election  Safe States  Swing States\n",
      "0      2020 Final        52.73         50.39\n",
      "1    2024 Current        49.31         48.79\n",
      "2  2024 Projected        49.32         48.79\n"
     ]
    }
   ],
   "source": [
    "# Determine Democratic candidate share of 2-party vote in all configurations\n",
    "d_2020_share_swing = round(\n",
    "    biden_total_swing / (biden_total_swing + trump_20_total_swing) * 100, 2\n",
    ")\n",
    "d_2020_share_safe = round(\n",
    "    biden_total_safe / (biden_total_safe + trump_20_total_safe) * 100, 2\n",
    ")\n",
    "d_2024_share_swing_current = round(\n",
    "    harris_total_swing / (harris_total_swing + trump_24_total_swing) * 100, 2\n",
    ")\n",
    "d_2024_share_safe_current = round(\n",
    "    harris_total_safe / (harris_total_safe + trump_24_total_safe) * 100, 2\n",
    ")\n",
    "d_2024_share_swing_proj = round(\n",
    "    harris_proj_total_swing\n",
    "    / (harris_proj_total_swing + trump_24_proj_total_swing)\n",
    "    * 100,\n",
    "    2,\n",
    ")\n",
    "d_2024_share_safe_proj = round(\n",
    "    harris_proj_total_safe / (harris_proj_total_safe + trump_24_proj_total_safe) * 100,\n",
    "    2,\n",
    ")\n",
    "\n",
    "# Organize data and create a data frame\n",
    "elections = [\"2020 Final\", \"2024 Current\", \"2024 Projected\"]\n",
    "safe_list = [d_2020_share_safe, d_2024_share_safe_current, d_2024_share_safe_proj]\n",
    "swing_list = [d_2020_share_swing, d_2024_share_swing_current, d_2024_share_swing_proj]\n",
    "vote_share_df = pd.DataFrame(\n",
    "    {\"Election\": elections, \"Safe States\": safe_list, \"Swing States\": swing_list}\n",
    ")\n",
    "\n",
    "print(vote_share_df)"
   ]
  }
 ],
 "metadata": {
  "kernelspec": {
   "display_name": "env_main",
   "language": "python",
   "name": "python3"
  },
  "language_info": {
   "codemirror_mode": {
    "name": "ipython",
    "version": 3
   },
   "file_extension": ".py",
   "mimetype": "text/x-python",
   "name": "python",
   "nbconvert_exporter": "python",
   "pygments_lexer": "ipython3",
   "version": "3.11.1"
  }
 },
 "nbformat": 4,
 "nbformat_minor": 5
}
